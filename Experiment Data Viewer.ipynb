{
  "cells": [
    {
      "cell_type": "code",
      "execution_count": 1,
      "id": "26905d0c-6362-45c1-a0ac-e8eb90f4868f",
      "metadata": {
        "jupyter": {
          "source_hidden": true
        },
        "id": "26905d0c-6362-45c1-a0ac-e8eb90f4868f"
      },
      "outputs": [],
      "source": [
        "#%matplotlib inline\n",
        "\n",
        "import numpy as np\n",
        "import matplotlib.pyplot as plt\n",
        "from mpl_toolkits.axes_grid1 import make_axes_locatable\n",
        "from scipy.interpolate import griddata\n",
        "import ipywidgets as widgets\n",
        "from IPython.display import display"
      ]
    },
    {
      "cell_type": "code",
      "execution_count": null,
      "id": "7257c312-3c04-4d18-9a9a-bc35b65405e7",
      "metadata": {
        "cellView": "form",
        "id": "7257c312-3c04-4d18-9a9a-bc35b65405e7"
      },
      "outputs": [],
      "source": [
        "#@title Load Data\n",
        "plt.rcParams[\"font.family\"] = \"serif\"\n",
        "plt.rcParams[\"font.serif\"] = \"DejaVu Serif\"\n",
        "\n",
        "data=np.load(\"ULI_selected_data.npz\",allow_pickle=True)\n",
        "f= data['f']\n",
        "spectra_mic_locs = data['spectra_mic_locs']\n",
        "xyz_all = data['xyz']\n",
        "noise = data['noise'].item()\n",
        "\n",
        "all_conditions = list(noise.keys())\n",
        "u_options = sorted(list(set([k[0] for k in all_conditions])))\n",
        "yaw_options = sorted(list(set([k[1] for k in all_conditions])))\n",
        "del data"
      ]
    },
    {
      "cell_type": "code",
      "execution_count": null,
      "id": "fbe0be25-4540-40cd-b14a-f8fc7d848aed",
      "metadata": {
        "cellView": "form",
        "id": "fbe0be25-4540-40cd-b14a-f8fc7d848aed"
      },
      "outputs": [],
      "source": [
        "#@title Create widgets and logic\n",
        "mic_options_list = [(f\"[{coords[0]:.2f}, {coords[1]:.2f}]\", i)\n",
        "    for i, coords in zip(range(7), spectra_mic_locs[0, :7, :2])]\n",
        "\n",
        "u_widget = widgets.Dropdown(options=u_options,description='U (m/s):',value=10)\n",
        "yaw_widget = widgets.Dropdown(options=yaw_options,description='Yaw (deg):',value=80)\n",
        "# RPM widget is created with the *initial* list\n",
        "rpm_widget = widgets.Dropdown(options=noise[(10,0)]['rpms'],description='RPM:',value=3000)\n",
        "fq_widget = widgets.Dropdown(options=[\"BPF\", \"BROADBAND\"],description='Contour Map Value:')\n",
        "mic_widget = widgets.Dropdown(options=mic_options_list,description='Target Mic:')\n",
        "spl_range_slider = widgets.FloatRangeSlider(value=[20, 80],min=0,max=120,step=5,\n",
        "    description='SPL range',continuous_update=True,readout_format='.0f'\n",
        ")\n",
        "\n",
        "# u and rpm options need to update every time you change yaw.\n",
        "def on_yaw_change(change):\n",
        "    current_yaw = yaw_widget.value\n",
        "    current_u = u_widget.value\n",
        "    current_rpm = rpm_widget.value\n",
        "    available_u = sorted({u for u, y in all_conditions if y == current_yaw})\n",
        "\n",
        "    u_widget.unobserve(on_u_change, names='value')\n",
        "    rpm_widget.unobserve(update_plot, names='value')\n",
        "    fq_widget.unobserve(update_plot, names='value')\n",
        "    mic_widget.unobserve(update_plot, names='value')\n",
        "    spl_range_slider.unobserve(update_plot, names='value')\n",
        "\n",
        "    u_widget.options = available_u\n",
        "    if current_u in available_u:\n",
        "        u_widget.value = current_u\n",
        "\n",
        "    available_rpm = noise[(current_u, current_yaw)]['rpms']\n",
        "    rpm_widget.options = available_rpm\n",
        "    if current_rpm in available_rpm:\n",
        "        rpm_widget.value = current_rpm\n",
        "    else:\n",
        "        rpm_widget.value = available_rpm[-2]\n",
        "\n",
        "    u_widget.observe(on_u_change, names='value')\n",
        "    rpm_widget.observe(update_plot, names='value')\n",
        "    fq_widget.observe(update_plot, names='value')\n",
        "    mic_widget.observe(update_plot, names='value')\n",
        "    spl_range_slider.observe(update_plot, names='value')\n",
        "\n",
        "    update_plot(None)\n",
        "\n",
        "# yaw and rpm options need to update every time you change u.\n",
        "def on_u_change(change):\n",
        "    current_u = u_widget.value\n",
        "    current_yaw = yaw_widget.value\n",
        "    current_rpm = rpm_widget.value\n",
        "    available_yaw = sorted({y for u, y in all_conditions if u == current_u})\n",
        "\n",
        "    yaw_widget.unobserve(on_yaw_change, names='value')\n",
        "    rpm_widget.unobserve(update_plot, names='value')\n",
        "    fq_widget.unobserve(update_plot, names='value')\n",
        "    mic_widget.unobserve(update_plot, names='value')\n",
        "    spl_range_slider.unobserve(update_plot, names='value')\n",
        "\n",
        "    yaw_widget.options = available_yaw\n",
        "    if current_yaw in available_yaw:\n",
        "        yaw_widget.value = current_yaw\n",
        "\n",
        "    available_rpm = noise[(current_u, current_yaw)]['rpms']\n",
        "    rpm_widget.options = available_rpm\n",
        "    if current_rpm in available_rpm:\n",
        "        rpm_widget.value = current_rpm\n",
        "    else:\n",
        "        rpm_widget.value = available_rpm[-2]\n",
        "\n",
        "    yaw_widget.observe(on_yaw_change, names='value')\n",
        "    rpm_widget.observe(update_plot, names='value')\n",
        "    fq_widget.observe(update_plot, names='value')\n",
        "    mic_widget.observe(update_plot, names='value')\n",
        "    spl_range_slider.observe(update_plot, names='value')\n",
        "\n",
        "    update_plot(None)\n",
        "\n",
        "u_widget.observe(on_u_change, names='value')\n",
        "yaw_widget.observe(on_yaw_change, names='value')\n",
        "\n",
        "# the output will be the figure.\n",
        "out_plot1 = widgets.Output(layout=widgets.Layout(height='300px'))"
      ]
    },
    {
      "cell_type": "code",
      "execution_count": null,
      "id": "321fc070-3803-4cd0-9bb7-e57d02a722db",
      "metadata": {
        "id": "321fc070-3803-4cd0-9bb7-e57d02a722db"
      },
      "outputs": [],
      "source": [
        "#@title Plotting Function\n",
        "def plot_figs(u=u_widget, yaw=yaw_widget, rpm=rpm_widget, target_fq=fq_widget, target_mic=mic_widget, spl_limits=spl_range_slider):\n",
        "\n",
        "    BPF = rpm / 60 * 5\n",
        "    titles = ['BACKGROUND', 'TOTAL', 'TONAL']\n",
        "    colors = ['gray', 'k', 'b']\n",
        "    linewidths = [2.3, 2.3, 2.3]\n",
        "    linestyles = ['dashed', 'solid', 'dashdot']\n",
        "\n",
        "    rpm_ix = np.argmin(abs(np.array(noise[(u,yaw)]['rpms']) - rpm))\n",
        "\n",
        "    bg = noise[(u,yaw)]['spectra']['background'][target_mic]\n",
        "    tonal = noise[(u,yaw)]['spectra']['tonal'][rpm_ix, target_mic]\n",
        "    total = noise[(u,yaw)]['spectra']['total'][rpm_ix, target_mic]\n",
        "\n",
        "    if u == 0:\n",
        "        xyz=xyz_all[0]\n",
        "        spectra_mic_loc = spectra_mic_locs[0,target_mic]\n",
        "    elif u==10:\n",
        "        xyz=xyz_all[1]\n",
        "        spectra_mic_loc = spectra_mic_locs[1,target_mic]\n",
        "    else:\n",
        "        xyz=xyz_all[2]\n",
        "        spectra_mic_loc = spectra_mic_locs[2,target_mic]\n",
        "\n",
        "    fig, (ax1, ax2) = plt.subplots(1, 2, figsize=(10, 4),gridspec_kw={'width_ratios': [3, 4]})\n",
        "\n",
        "    # Spectra plot\n",
        "    for i, SPL in enumerate((bg, total, tonal)):\n",
        "        ax1.semilogx(f / BPF, SPL, label=titles[i], linewidth=linewidths[i], color=colors[i], linestyle=linestyles[i])\n",
        "\n",
        "    # ax1.set_title(fr\"{rpm} RPM, {u} m/s, {yaw}$\\degree$ yaw at mic [{spectra_mic_loc[0]:.2f}, {spectra_mic_loc[1]:.2f}]\", fontsize=15)\n",
        "    ax1.set_xticks(np.arange(11))\n",
        "    ax1.set_ylim(spl_limits[0], spl_limits[1])\n",
        "    ax1.set_xlim(0.9, 40)\n",
        "    ax1.set_xlabel(\"BPF Harmonic\", fontsize=18)\n",
        "    ax1.set_ylabel(\"SPL (dB)\", fontsize=18)\n",
        "    ax1.grid()\n",
        "    ax1.tick_params(axis='both', which='both', direction='inout', labelsize=16, length=5, width=1.6)\n",
        "    ax1.legend(fontsize=10, loc='upper right', ncols=3)\n",
        "\n",
        "    # Directivity Plot\n",
        "    X, Y = np.meshgrid(np.linspace(-2, 2, 51), np.linspace(-1, 1, 26))\n",
        "    levels = np.linspace(spl_limits[0], spl_limits[1], 75)\n",
        "    SPL = noise[(u,yaw)]['maps']['BPF'][rpm_ix] if target_fq==\"BPF\" else noise[(u,yaw)]['maps']['BROADBAND'][rpm_ix]\n",
        "    Z = griddata((xyz[:, 0], xyz[:, 1]), SPL, (X, Y), method='linear')\n",
        "\n",
        "    # fig2, ax2 = plt.subplots(layout='constrained', figsize=(4, 3))\n",
        "    CS = ax2.contourf(X, Y, Z, levels, extend='both', cmap=\"jet\")\n",
        "    title = fr\"1st BPF Directivity: {rpm} RPM, {u} m/s, {yaw}$\\degree$ yaw\"\n",
        "\n",
        "    # Call the helper function\n",
        "    # format_map(fig, ax2, CS, levels, title=\"\")\n",
        "    ax2.set_xlabel('X (m)', fontsize=14)\n",
        "    ax2.set_ylabel('Y (m)', fontsize=14)\n",
        "    ax2.tick_params(axis='both', labelsize=10)\n",
        "    ax2.axis('equal')\n",
        "    ax2.tick_params(axis='both', which='both', direction='inout', pad=7)\n",
        "    ax2.tick_params(axis='both', which='major', labelsize=14, length=4, width=1.6)\n",
        "\n",
        "    # make colorbar\n",
        "    divider = make_axes_locatable(ax2)\n",
        "    cax = divider.append_axes(\"right\", size=\"5%\", pad=0.1)\n",
        "    ticks = np.linspace(levels[0], levels[-1], 10).tolist()\n",
        "    cbar = fig.colorbar(CS, cax=cax, ticks=ticks)\n",
        "    cbar.ax.set_ylabel(\"SPL (dB)\", fontsize=14)\n",
        "    cbar.ax.set_yticklabels([f'{x:.2f}' for x in ticks])\n",
        "\n",
        "    ax2.set_ylim((-1., 1.))\n",
        "    # plt.show(fig2)\n",
        "\n",
        "    fig.canvas.draw()\n",
        "    ax2_pos = ax2.get_position()\n",
        "    ax1_pos = ax1.get_position()\n",
        "\n",
        "    ax1.set_position([\n",
        "        ax1_pos.x0,         # Keep original left\n",
        "        ax2_pos.y0,         # Match ax2's bottom\n",
        "        ax1_pos.width,      # Keep original width\n",
        "        ax2_pos.height      # Match ax2's height\n",
        "    ])\n",
        "\n",
        "    out_plot1.clear_output(wait=True)\n",
        "    with out_plot1:\n",
        "        plt.show(fig)\n",
        "        plt.close(fig)\n",
        "\n",
        "def update_plot(change):\n",
        "    plot_figs(\n",
        "        u=u_widget.value,\n",
        "        yaw=yaw_widget.value,\n",
        "        rpm=rpm_widget.value,\n",
        "        target_fq=fq_widget.value,\n",
        "        target_mic=mic_widget.value,\n",
        "        spl_limits=spl_range_slider.value\n",
        "    )\n",
        "# remaining widgets update plot every time they're changed - no other changes necessary.\n",
        "rpm_widget.observe(update_plot, names='value')\n",
        "fq_widget.observe(update_plot, names='value')\n",
        "mic_widget.observe(update_plot, names='value')\n",
        "spl_range_slider.observe(update_plot, names='value')"
      ]
    },
    {
      "cell_type": "code",
      "execution_count": null,
      "id": "8b146351-c91f-4935-b1e3-208c86beb028",
      "metadata": {
        "id": "8b146351-c91f-4935-b1e3-208c86beb028",
        "outputId": "a78624ad-8965-4751-d819-603874686686",
        "colab": {
          "referenced_widgets": [
            "b0d5d327c4c7489aacfa35d9b0ce044f",
            "4a7afa1aa6a346b38cffc0ceab8fbd0b"
          ]
        }
      },
      "outputs": [
        {
          "data": {
            "application/vnd.jupyter.widget-view+json": {
              "model_id": "b0d5d327c4c7489aacfa35d9b0ce044f",
              "version_major": 2,
              "version_minor": 0
            },
            "text/plain": [
              "VBox(children=(HBox(children=(Dropdown(description='U (m/s):', index=1, options=(0, 10, 20, 25), value=10), Dr…"
            ]
          },
          "metadata": {},
          "output_type": "display_data"
        },
        {
          "data": {
            "application/vnd.jupyter.widget-view+json": {
              "model_id": "4a7afa1aa6a346b38cffc0ceab8fbd0b",
              "version_major": 2,
              "version_minor": 0
            },
            "text/plain": [
              "Output(layout=Layout(height='300px'))"
            ]
          },
          "metadata": {},
          "output_type": "display_data"
        }
      ],
      "source": [
        "controls = widgets.VBox([\n",
        "    widgets.HBox([u_widget, yaw_widget, rpm_widget]),\n",
        "    widgets.HBox([fq_widget, mic_widget, spl_range_slider]),\n",
        "])\n",
        "\n",
        "display(controls, out_plot1)\n",
        "\n",
        "update_plot(None) # initialize"
      ]
    },
    {
      "cell_type": "code",
      "execution_count": null,
      "id": "489a7c9d-c008-452f-9e36-96045f9487c7",
      "metadata": {
        "id": "489a7c9d-c008-452f-9e36-96045f9487c7"
      },
      "outputs": [],
      "source": []
    }
  ],
  "metadata": {
    "kernelspec": {
      "display_name": "Python 3 (ipykernel)",
      "language": "python",
      "name": "python3"
    },
    "language_info": {
      "codemirror_mode": {
        "name": "ipython",
        "version": 3
      },
      "file_extension": ".py",
      "mimetype": "text/x-python",
      "name": "python",
      "nbconvert_exporter": "python",
      "pygments_lexer": "ipython3",
      "version": "3.12.8"
    },
    "colab": {
      "provenance": []
    }
  },
  "nbformat": 4,
  "nbformat_minor": 5
}